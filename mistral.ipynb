{
 "cells": [
  {
   "cell_type": "code",
   "execution_count": 1,
   "id": "8e944bea",
   "metadata": {},
   "outputs": [
    {
     "name": "stdout",
     "output_type": "stream",
     "text": [
      "Using device: cpu\n"
     ]
    }
   ],
   "source": [
    "import torch\n",
    "\n",
    "# Perform a CUDA device availability check\n",
    "def get_cuda_device():\n",
    "    if torch.cuda.is_available():\n",
    "        return \"cuda:0\"\n",
    "    else:\n",
    "        return \"cpu\"\n",
    "\n",
    "print(\"Using device:\", get_cuda_device())"
   ]
  },
  {
   "cell_type": "code",
   "execution_count": 2,
   "id": "5641d62e",
   "metadata": {},
   "outputs": [
    {
     "name": "stdout",
     "output_type": "stream",
     "text": [
      "Řekněme, aby bylo jednoduché: 62 kalorii je průměrný počet kalorií v jednom jableku. Množství kalorií v jednotlivých jablcích může se lišit podle velikosti a druhu jablka, takže je třeba mít na paměti, že tento počet představuje pouze průměr.\n"
     ]
    }
   ],
   "source": [
    "import requests\n",
    "import json\n",
    "\n",
    "prompt = \"Kolik kalorií má jablko?\"\n",
    "\n",
    "response = requests.post(\n",
    "    \"http://localhost:11434/api/generate\",\n",
    "    json={\"model\": \"mistral\", \"prompt\": prompt},\n",
    "    stream=True\n",
    ")\n",
    "\n",
    "# sběr výstupu\n",
    "full_response = \"\"\n",
    "for line in response.iter_lines():\n",
    "    if line:\n",
    "        data = json.loads(line)\n",
    "        full_response += data.get(\"response\", \"\")\n",
    "\n",
    "print(full_response)\n"
   ]
  },
  {
   "cell_type": "code",
   "execution_count": 3,
   "id": "61dcdfa9",
   "metadata": {},
   "outputs": [
    {
     "name": "stdout",
     "output_type": "stream",
     "text": [
      " Jablko má asi 52 kilokalorii. Tato hodnota se může lišit v závislosti na velikosti, zralosti a typu ovoce.\n"
     ]
    }
   ],
   "source": [
    "import asyncio\n",
    "import aiohttp\n",
    "import json\n",
    "\n",
    "async def generate_response():\n",
    "    url = \"http://localhost:11434/api/generate\"\n",
    "    payload = {\"model\": \"mistral\", \"prompt\": \"Kolik kalorií má jablko?\"}\n",
    "\n",
    "    async with aiohttp.ClientSession() as session:\n",
    "        async with session.post(url, json=payload) as response:\n",
    "            full_response = \"\"\n",
    "            async for line in response.content:\n",
    "                if line:\n",
    "                    try:\n",
    "                        data = json.loads(line.decode(\"utf-8\").strip())\n",
    "                        full_response += data.get(\"response\", \"\")\n",
    "                    except json.JSONDecodeError:\n",
    "                        continue  # někdy může přijít neúplný JSON\n",
    "            print(full_response)\n",
    "\n",
    "await generate_response()"
   ]
  },
  {
   "cell_type": "code",
   "execution_count": 4,
   "id": "6b406e5e",
   "metadata": {},
   "outputs": [],
   "source": [
    "import requests\n",
    "import json\n",
    "from langchain.llms.base import LLM\n",
    "from typing import Optional, List, Mapping, Any\n",
    "\n",
    "class OllamaLLM(LLM):\n",
    "    model: str = \"mistral\"\n",
    "    api_url: str = \"http://localhost:11434/api/generate\"\n",
    "    system_instructions: str = \"\"\"\n",
    "    You are an agent that must strictly follow the output format below.\n",
    "    Your responses will be run sequentially by a program that will interpret your output.\n",
    "    ONLY respond in one of these formats per response, NEVER both in the same response.\n",
    "\n",
    "    Option 1 (for tool use):\n",
    "    Thought: <your thought>\n",
    "    Action: <tool name>\n",
    "    Action Input: <input>\n",
    "\n",
    "    Option 2 (for final answer):\n",
    "    Final Answer: <your answer>\n",
    "\n",
    "    IMPORTANT: Do NOT output both an Action and a Final Answer in the same response.\n",
    "    If you use a tool, do NOT provide a Final Answer until you have the tool's result.\n",
    "    \"\"\"\n",
    "\n",
    "    def _call(self, prompt: str, stop: Optional[List[str]] = None) -> str:\n",
    "        full_prompt = self.system_instructions + \"\\n\" + prompt\n",
    "        response = requests.post(\n",
    "            self.api_url,\n",
    "            json={\"model\": self.model, \"prompt\": full_prompt},\n",
    "            stream=True\n",
    "        )\n",
    "        output = \"\"\n",
    "        for line in response.iter_lines():\n",
    "            if line:\n",
    "                data = json.loads(line)\n",
    "                output += data.get(\"response\", \"\")\n",
    "        return output\n",
    "\n",
    "    @property\n",
    "    def _identifying_params(self) -> Mapping[str, Any]:\n",
    "        return {\"model\": self.model}\n",
    "\n",
    "    @property\n",
    "    def _llm_type(self) -> str:\n",
    "        return \"ollama\"\n",
    "\n",
    "from langchain.tools import BaseTool\n",
    "import yfinance as yf\n",
    "\n",
    "class StockPriceTool(BaseTool):\n",
    "    name: str = \"stock_price\"\n",
    "    description: str = \"Use this tool to get current stock price by ticker symbol. Input should be a ticker symbol like 'AAPL' or 'GOOG'.\"\n",
    "\n",
    "    def _run(self, ticker: str) -> str:\n",
    "        try:\n",
    "            stock = yf.Ticker(ticker)\n",
    "            price = stock.info.get(\"regularMarketPrice\")\n",
    "            if price:\n",
    "                return f\"The current price of {ticker} is {price} USD.\"\n",
    "            else:\n",
    "                return f\"Price for {ticker} not found.\"\n",
    "        except Exception as e:\n",
    "            return f\"Error fetching price for {ticker}: {e}\"\n",
    "\n",
    "    async def _arun(self, ticker: str) -> str:\n",
    "        # Async verze, pokud bys chtěl\n",
    "        return self._run(ticker)\n",
    "\n"
   ]
  },
  {
   "cell_type": "code",
   "execution_count": 5,
   "id": "da1d018f",
   "metadata": {},
   "outputs": [
    {
     "data": {
      "text/plain": [
       "'The current price of AAPL is 203.92 USD.'"
      ]
     },
     "execution_count": 5,
     "metadata": {},
     "output_type": "execute_result"
    }
   ],
   "source": [
    "# AAPL\n",
    "StockPriceTool()._run(\"AAPL\")"
   ]
  },
  {
   "cell_type": "code",
   "execution_count": 6,
   "id": "187762e2",
   "metadata": {},
   "outputs": [],
   "source": [
    "import yfinance as yf\n",
    "from langchain.agents import Tool, AgentExecutor, LLMSingleActionAgent\n",
    "from langchain.llms.base import LLM\n",
    "from langchain.schema import AgentAction, AgentFinish\n",
    "from langchain.prompts import PromptTemplate\n",
    "from langchain.chains import LLMChain\n",
    "from langchain.agents.agent import AgentOutputParser\n",
    "from typing import Optional, List, Mapping, Any\n",
    "import requests\n",
    "import json\n",
    "import re"
   ]
  },
  {
   "cell_type": "code",
   "execution_count": 7,
   "id": "a9833fa7",
   "metadata": {},
   "outputs": [],
   "source": [
    "# --- Vlastní parser pro výstup LLM ---\n",
    "class StrictOutputParser(AgentOutputParser):\n",
    "    def parse(self, text: str) -> AgentAction | AgentFinish:\n",
    "        text = text.strip()\n",
    "        if text.startswith(\"Final Answer:\"):\n",
    "            return AgentFinish(\n",
    "                return_values={\"output\": text[len(\"Final Answer:\"):].strip()},\n",
    "                log=text,\n",
    "            )\n",
    "        # Tolerantní regex na mezery a velikost písmen\n",
    "        pattern = re.compile(\n",
    "            r\"Thought:\\s*(.*?)\\s*^ *Action:\\s*(.*?)\\s*^ *Action Input:\\s*(.*)\",\n",
    "            re.DOTALL | re.MULTILINE | re.IGNORECASE\n",
    "        )\n",
    "        match = pattern.search(text)\n",
    "        if match:\n",
    "            thought = match.group(1).strip()\n",
    "            tool = match.group(2).strip()\n",
    "            tool_input = match.group(3).strip().strip('\"')\n",
    "            return AgentAction(\n",
    "                tool=tool,\n",
    "                tool_input=tool_input,\n",
    "                log=text,\n",
    "            )\n",
    "        raise ValueError(f\"Cannot parse output: {text}\")"
   ]
  },
  {
   "cell_type": "code",
   "execution_count": null,
   "id": "8cdae2f4",
   "metadata": {},
   "outputs": [
    {
     "ename": "ValidationError",
     "evalue": "1 validation error for LLMChain\ninput_variables\n  Extra inputs are not permitted [type=extra_forbidden, input_value=['input', 'tools', 'agent_scratchpad'], input_type=list]\n    For further information visit https://errors.pydantic.dev/2.11/v/extra_forbidden",
     "output_type": "error",
     "traceback": [
      "\u001b[31m---------------------------------------------------------------------------\u001b[39m",
      "\u001b[31mValidationError\u001b[39m                           Traceback (most recent call last)",
      "\u001b[36mCell\u001b[39m\u001b[36m \u001b[39m\u001b[32mIn[11]\u001b[39m\u001b[32m, line 14\u001b[39m\n\u001b[32m      7\u001b[39m prompt = PromptTemplate(\n\u001b[32m      8\u001b[39m     input_variables=[\u001b[33m\"\u001b[39m\u001b[33minput\u001b[39m\u001b[33m\"\u001b[39m, \u001b[33m\"\u001b[39m\u001b[33mtools\u001b[39m\u001b[33m\"\u001b[39m, \u001b[33m\"\u001b[39m\u001b[33magent_scratchpad\u001b[39m\u001b[33m\"\u001b[39m],\n\u001b[32m      9\u001b[39m     template=prompt_template\n\u001b[32m     10\u001b[39m )\n\u001b[32m     12\u001b[39m llm = OllamaLLM(temperature=\u001b[32m0\u001b[39m)\n\u001b[32m---> \u001b[39m\u001b[32m14\u001b[39m llm_chain = \u001b[43mLLMChain\u001b[49m\u001b[43m(\u001b[49m\n\u001b[32m     15\u001b[39m \u001b[43m    \u001b[49m\u001b[43mllm\u001b[49m\u001b[43m=\u001b[49m\u001b[43mllm\u001b[49m\u001b[43m,\u001b[49m\n\u001b[32m     16\u001b[39m \u001b[43m    \u001b[49m\u001b[43mprompt\u001b[49m\u001b[43m=\u001b[49m\u001b[43mprompt\u001b[49m\u001b[43m,\u001b[49m\n\u001b[32m     17\u001b[39m \u001b[43m    \u001b[49m\u001b[43minput_variables\u001b[49m\u001b[43m=\u001b[49m\u001b[43m[\u001b[49m\u001b[33;43m\"\u001b[39;49m\u001b[33;43minput\u001b[39;49m\u001b[33;43m\"\u001b[39;49m\u001b[43m,\u001b[49m\u001b[43m \u001b[49m\u001b[33;43m\"\u001b[39;49m\u001b[33;43mtools\u001b[39;49m\u001b[33;43m\"\u001b[39;49m\u001b[43m,\u001b[49m\u001b[43m \u001b[49m\u001b[33;43m\"\u001b[39;49m\u001b[33;43magent_scratchpad\u001b[39;49m\u001b[33;43m\"\u001b[39;49m\u001b[43m]\u001b[49m\n\u001b[32m     18\u001b[39m \u001b[43m)\u001b[49m\n\u001b[32m     20\u001b[39m agent = LLMSingleActionAgent(\n\u001b[32m     21\u001b[39m     llm_chain=llm_chain,\n\u001b[32m     22\u001b[39m     output_parser=StrictOutputParser(),\n\u001b[32m     23\u001b[39m     stop=[\u001b[33m\"\u001b[39m\u001b[38;5;130;01m\\n\u001b[39;00m\u001b[33mObservation:\u001b[39m\u001b[33m\"\u001b[39m],\n\u001b[32m     24\u001b[39m     allowed_tools=[\u001b[33m\"\u001b[39m\u001b[33mget_stock_price\u001b[39m\u001b[33m\"\u001b[39m],\n\u001b[32m     25\u001b[39m )\n\u001b[32m     27\u001b[39m \u001b[38;5;66;03m# --- Opravený způsob volání agenta ---\u001b[39;00m\n",
      "\u001b[36mFile \u001b[39m\u001b[32m~\\AppData\\Local\\Packages\\PythonSoftwareFoundation.Python.3.11_qbz5n2kfra8p0\\LocalCache\\local-packages\\Python311\\site-packages\\langchain_core\\_api\\deprecation.py:224\u001b[39m, in \u001b[36mdeprecated.<locals>.deprecate.<locals>.finalize.<locals>.warn_if_direct_instance\u001b[39m\u001b[34m(self, *args, **kwargs)\u001b[39m\n\u001b[32m    222\u001b[39m     warned = \u001b[38;5;28;01mTrue\u001b[39;00m\n\u001b[32m    223\u001b[39m     emit_warning()\n\u001b[32m--> \u001b[39m\u001b[32m224\u001b[39m \u001b[38;5;28;01mreturn\u001b[39;00m \u001b[43mwrapped\u001b[49m\u001b[43m(\u001b[49m\u001b[38;5;28;43mself\u001b[39;49m\u001b[43m,\u001b[49m\u001b[43m \u001b[49m\u001b[43m*\u001b[49m\u001b[43margs\u001b[49m\u001b[43m,\u001b[49m\u001b[43m \u001b[49m\u001b[43m*\u001b[49m\u001b[43m*\u001b[49m\u001b[43mkwargs\u001b[49m\u001b[43m)\u001b[49m\n",
      "\u001b[36mFile \u001b[39m\u001b[32m~\\AppData\\Local\\Packages\\PythonSoftwareFoundation.Python.3.11_qbz5n2kfra8p0\\LocalCache\\local-packages\\Python311\\site-packages\\langchain_core\\load\\serializable.py:130\u001b[39m, in \u001b[36mSerializable.__init__\u001b[39m\u001b[34m(self, *args, **kwargs)\u001b[39m\n\u001b[32m    128\u001b[39m \u001b[38;5;28;01mdef\u001b[39;00m\u001b[38;5;250m \u001b[39m\u001b[34m__init__\u001b[39m(\u001b[38;5;28mself\u001b[39m, *args: Any, **kwargs: Any) -> \u001b[38;5;28;01mNone\u001b[39;00m:\n\u001b[32m    129\u001b[39m \u001b[38;5;250m    \u001b[39m\u001b[33;03m\"\"\"\"\"\"\u001b[39;00m  \u001b[38;5;66;03m# noqa: D419\u001b[39;00m\n\u001b[32m--> \u001b[39m\u001b[32m130\u001b[39m     \u001b[38;5;28;43msuper\u001b[39;49m\u001b[43m(\u001b[49m\u001b[43m)\u001b[49m\u001b[43m.\u001b[49m\u001b[34;43m__init__\u001b[39;49m\u001b[43m(\u001b[49m\u001b[43m*\u001b[49m\u001b[43margs\u001b[49m\u001b[43m,\u001b[49m\u001b[43m \u001b[49m\u001b[43m*\u001b[49m\u001b[43m*\u001b[49m\u001b[43mkwargs\u001b[49m\u001b[43m)\u001b[49m\n",
      "\u001b[36mFile \u001b[39m\u001b[32m~\\AppData\\Local\\Packages\\PythonSoftwareFoundation.Python.3.11_qbz5n2kfra8p0\\LocalCache\\local-packages\\Python311\\site-packages\\pydantic\\main.py:253\u001b[39m, in \u001b[36mBaseModel.__init__\u001b[39m\u001b[34m(self, **data)\u001b[39m\n\u001b[32m    251\u001b[39m \u001b[38;5;66;03m# `__tracebackhide__` tells pytest and some other tools to omit this function from tracebacks\u001b[39;00m\n\u001b[32m    252\u001b[39m __tracebackhide__ = \u001b[38;5;28;01mTrue\u001b[39;00m\n\u001b[32m--> \u001b[39m\u001b[32m253\u001b[39m validated_self = \u001b[38;5;28;43mself\u001b[39;49m\u001b[43m.\u001b[49m\u001b[43m__pydantic_validator__\u001b[49m\u001b[43m.\u001b[49m\u001b[43mvalidate_python\u001b[49m\u001b[43m(\u001b[49m\u001b[43mdata\u001b[49m\u001b[43m,\u001b[49m\u001b[43m \u001b[49m\u001b[43mself_instance\u001b[49m\u001b[43m=\u001b[49m\u001b[38;5;28;43mself\u001b[39;49m\u001b[43m)\u001b[49m\n\u001b[32m    254\u001b[39m \u001b[38;5;28;01mif\u001b[39;00m \u001b[38;5;28mself\u001b[39m \u001b[38;5;129;01mis\u001b[39;00m \u001b[38;5;129;01mnot\u001b[39;00m validated_self:\n\u001b[32m    255\u001b[39m     warnings.warn(\n\u001b[32m    256\u001b[39m         \u001b[33m'\u001b[39m\u001b[33mA custom validator is returning a value other than `self`.\u001b[39m\u001b[38;5;130;01m\\n\u001b[39;00m\u001b[33m'\u001b[39m\n\u001b[32m    257\u001b[39m         \u001b[33m\"\u001b[39m\u001b[33mReturning anything other than `self` from a top level model validator isn\u001b[39m\u001b[33m'\u001b[39m\u001b[33mt supported when validating via `__init__`.\u001b[39m\u001b[38;5;130;01m\\n\u001b[39;00m\u001b[33m\"\u001b[39m\n\u001b[32m    258\u001b[39m         \u001b[33m'\u001b[39m\u001b[33mSee the `model_validator` docs (https://docs.pydantic.dev/latest/concepts/validators/#model-validators) for more details.\u001b[39m\u001b[33m'\u001b[39m,\n\u001b[32m    259\u001b[39m         stacklevel=\u001b[32m2\u001b[39m,\n\u001b[32m    260\u001b[39m     )\n",
      "\u001b[31mValidationError\u001b[39m: 1 validation error for LLMChain\ninput_variables\n  Extra inputs are not permitted [type=extra_forbidden, input_value=['input', 'tools', 'agent_scratchpad'], input_type=list]\n    For further information visit https://errors.pydantic.dev/2.11/v/extra_forbidden"
     ]
    }
   ],
   "source": [
    "from langchain.agents import initialize_agent\n",
    "from langchain.agents import AgentType\n",
    "\n",
    "ollama_llm = OllamaLLM()\n",
    "tools = [StockPriceTool()]\n",
    "\n",
    "agent = initialize_agent(\n",
    "    tools,\n",
    "    ollama_llm,\n",
    "    agent=AgentType.ZERO_SHOT_REACT_DESCRIPTION,\n",
    "    verbose=True,\n",
    "    handle_parsing_errors=True,\n",
    "    max_iterations=1\n",
    ")\n",
    "\n",
    "\n",
    "user_input = \"Jaká je cena akcií společnosti apple?\"\n",
    "result = agent.invoke(user_input)\n",
    "print(\"Agent:\", result)\n",
    "\n",
    "\n"
   ]
  },
  {
   "cell_type": "code",
   "execution_count": null,
   "id": "d44e6cc3",
   "metadata": {},
   "outputs": [],
   "source": [
    "while True:\n",
    "    user_input = input(\"You: \")\n",
    "    if user_input.lower() in [\"exit\", \"quit\"]:\n",
    "        break\n",
    "    result = agent.run(user_input)\n",
    "    print(\"Agent:\", result)"
   ]
  }
 ],
 "metadata": {
  "kernelspec": {
   "display_name": "Python 3",
   "language": "python",
   "name": "python3"
  },
  "language_info": {
   "codemirror_mode": {
    "name": "ipython",
    "version": 3
   },
   "file_extension": ".py",
   "mimetype": "text/x-python",
   "name": "python",
   "nbconvert_exporter": "python",
   "pygments_lexer": "ipython3",
   "version": "3.11.9"
  }
 },
 "nbformat": 4,
 "nbformat_minor": 5
}
